{
 "cells": [
  {
   "cell_type": "code",
   "execution_count": 1,
   "id": "69827a33",
   "metadata": {},
   "outputs": [],
   "source": [
    "import re\n",
    "import os\n",
    "import csv\n",
    "import pandas as pd\n",
    "import math"
   ]
  },
  {
   "cell_type": "code",
   "execution_count": 2,
   "id": "5dc14c37",
   "metadata": {},
   "outputs": [],
   "source": [
    "def cleanTweet(tweet):\n",
    "    tweetDecoded = tweet.encode('ascii', 'ignore').decode('ascii')\n",
    "    tweetRemovedLinks = re.sub(r'\\w+:\\/{2}[\\d\\w-]+(\\.[\\d\\w-]+)*(?:(?:\\/[^\\s/]*))*', '', tweetDecoded)\n",
    "    tweetRemovedLinks = tweetRemovedLinks.replace('\\n', ' ')\n",
    "    return tweetRemovedLinks"
   ]
  },
  {
   "cell_type": "code",
   "execution_count": 3,
   "id": "7ad8b492",
   "metadata": {},
   "outputs": [],
   "source": [
    "def openFile(csv):\n",
    "    tweets = []\n",
    "    \n",
    "    df = pd.read_csv(csv)\n",
    "    \n",
    "    for index,row in df.iterrows():\n",
    "        t = row['tweet']\n",
    "        tweets.append(t)\n",
    "    \n",
    "    return tweets"
   ]
  },
  {
   "cell_type": "code",
   "execution_count": 4,
   "id": "d644d709",
   "metadata": {},
   "outputs": [],
   "source": [
    "csv = 'aoc.csv'\n",
    "rawTweets = openFile(csv)\n",
    "# print(rawTweets)"
   ]
  },
  {
   "cell_type": "code",
   "execution_count": 5,
   "id": "436aa99f",
   "metadata": {},
   "outputs": [],
   "source": [
    "cleanTweets = []\n",
    "for tweet in rawTweets:\n",
    "    cleanTweets.append(cleanTweet(tweet))\n",
    "# print(cleanTweets)"
   ]
  },
  {
   "cell_type": "code",
   "execution_count": 6,
   "id": "0d91fb25",
   "metadata": {},
   "outputs": [],
   "source": [
    "fileName = csv[:-4] + \".txt\"\n",
    "file = open(fileName, 'w')\n",
    "file.writelines(cleanTweets)"
   ]
  },
  {
   "cell_type": "code",
   "execution_count": null,
   "id": "ce5c168c",
   "metadata": {},
   "outputs": [],
   "source": [
    "#import keras\n",
    "#from keras.datasets import mnist\n",
    "#from keras.models import Sequential\n",
    "#from keras.layers import CuDNNLSTM, Dense, Dropout, LSTM\n",
    "#from keras.optimizers import Adam"
   ]
  }
 ],
 "metadata": {
  "kernelspec": {
   "display_name": "Python 3 (ipykernel)",
   "language": "python",
   "name": "python3"
  },
  "language_info": {
   "codemirror_mode": {
    "name": "ipython",
    "version": 3
   },
   "file_extension": ".py",
   "mimetype": "text/x-python",
   "name": "python",
   "nbconvert_exporter": "python",
   "pygments_lexer": "ipython3",
   "version": "3.8.11"
  }
 },
 "nbformat": 4,
 "nbformat_minor": 5
}
